{
 "cells": [
  {
   "cell_type": "code",
   "execution_count": 1,
   "metadata": {},
   "outputs": [],
   "source": [
    "from PIL import Image\n",
    "from os import listdir\n",
    "from tqdm import tqdm\n",
    "import shutil\n"
   ]
  },
  {
   "cell_type": "code",
   "execution_count": 3,
   "metadata": {},
   "outputs": [],
   "source": [
    "# Specifying image resizing paramaters\n",
    "size = 64,64\n",
    "\n",
    "# Specifying image cropping paramaters\n",
    "bassoonBox = [300, 0, 1500, 1080]\n",
    "celloBox = [300, 0, 1400, 1080]\n",
    "clarinetBox = [400, 0, 1500, 1080]\n",
    "doublebassBox = [100, 0, 1400, 1080]\n",
    "fluteBox = [400, 0, 1400, 1080]\n",
    "hornBox = [500, 0, 1920, 1080]\n",
    "oboeBox = [450, 0, 1550, 1080]\n",
    "saxBox = [300, 0, 1400, 1080]\n",
    "tromboneBox = [300, 0, 1500, 1080]\n",
    "trumpetBox = [200, 0, 1400, 1080]\n",
    "tubaBox = [250, 0, 1450, 1080]\n",
    "violaBox = [400, 0, 1600, 1080]\n",
    "violinBox = [600, 0, 1700, 1080]\n",
    "\n",
    "\n",
    "boundingBoxList = [\n",
    "    bassoonBox\n",
    "    ,celloBox\n",
    "    ,clarinetBox\n",
    "    ,doublebassBox\n",
    "    ,fluteBox\n",
    "    ,hornBox\n",
    "    ,oboeBox\n",
    "    ,saxBox\n",
    "    ,tromboneBox\n",
    "    ,trumpetBox\n",
    "    ,tubaBox\n",
    "    ,violaBox\n",
    "    ,violinBox]\n"
   ]
  },
  {
   "cell_type": "code",
   "execution_count": 19,
   "metadata": {},
   "outputs": [],
   "source": [
    "def preprocessImg(sourcePath, destPath, dataSplit, instrumentNames, imagePaths, boundBox):\n",
    "    for instrument, instrumentFiles, boundingBox in zip(instrumentNames, imagePaths, boundBox):\n",
    "        for file in tqdm(instrumentFiles, desc=f\"{{{instrument}}}\"):\n",
    "            srcPath = f\"{sourcePath}/{dataSplit}/{instrument}/{file}\"\n",
    "            dstPth = f\"{destPath}/{dataSplit}/{instrument}/{file}\"\n",
    "            im = Image.open(srcPath)\n",
    "            imCropped = im.crop(boundingBox)\n",
    "            imCroppedResized = imCropped.resize(size, Image.ANTIALIAS)\n",
    "            imCroppedResized.save(dstPth, \"JPEG\")\n",
    "\n"
   ]
  },
  {
   "cell_type": "code",
   "execution_count": 20,
   "metadata": {},
   "outputs": [],
   "source": [
    "instrumentNames = listdir(\"Data/SubURMPClean/audio/train/\")\n",
    "instrumentNames = [name for name in instrumentNames if name[0] != \".\"]\n",
    "instrumentNames.sort()\n",
    "\n",
    "# Get paths to directories\n",
    "srcPath = \"Data/SubURMP/img\"\n",
    "dstPath = \"Data/SubURMP64/images/original\"\n",
    "\n",
    "## Creating list object of all file names within all instrument directories\n",
    "trainingImages = []\n",
    "validationImages = []\n",
    "\n",
    "for name in instrumentNames:\n",
    "    trainingInstrumentFiles = listdir(f\"Data/SubURMP/img/train/{name}\")\n",
    "    validationInstrumentFiles = listdir(f\"Data/SubURMP/img/validation/{name}\")\n",
    "    trainingImages.append(trainingInstrumentFiles)\n",
    "    validationImages.append(validationInstrumentFiles)"
   ]
  },
  {
   "cell_type": "code",
   "execution_count": 21,
   "metadata": {},
   "outputs": [
    {
     "name": "stderr",
     "output_type": "stream",
     "text": [
      "{bassoon}: 100%|██████████| 1735/1735 [00:42<00:00, 41.16it/s]\n",
      "{cello}: 100%|██████████| 9800/9800 [03:51<00:00, 42.27it/s]\n",
      "{clarinet}: 100%|██████████| 8125/8125 [03:16<00:00, 41.44it/s]\n",
      "{double_bass}: 100%|██████████| 1270/1270 [00:32<00:00, 39.65it/s]\n",
      "{flute}: 100%|██████████| 5690/5690 [02:13<00:00, 42.67it/s]\n",
      "{horn}: 100%|██████████| 5540/5540 [02:22<00:00, 38.76it/s]\n",
      "{oboe}: 100%|██████████| 4505/4505 [01:51<00:00, 40.53it/s]\n",
      "{sax}: 100%|██████████| 7615/7615 [03:03<00:00, 41.60it/s]\n",
      "{trombone}: 100%|██████████| 8690/8690 [03:32<00:00, 40.88it/s]\n",
      "{trumpet}: 100%|██████████| 1015/1015 [00:24<00:00, 40.75it/s]\n",
      "{tuba}: 100%|██████████| 3285/3285 [01:23<00:00, 39.11it/s]\n",
      "{viola}: 100%|██████████| 6530/6530 [02:41<00:00, 40.42it/s]\n",
      "{violin}: 100%|██████████| 7430/7430 [02:55<00:00, 42.22it/s]\n"
     ]
    }
   ],
   "source": [
    "preprocessImg(srcPath, dstPath, \"train\", instrumentNames, trainingImages, boundingBoxList)"
   ]
  },
  {
   "cell_type": "code",
   "execution_count": 22,
   "metadata": {},
   "outputs": [
    {
     "name": "stderr",
     "output_type": "stream",
     "text": [
      "{bassoon}: 100%|██████████| 390/390 [00:09<00:00, 41.21it/s]\n",
      "{cello}: 100%|██████████| 1030/1030 [00:24<00:00, 42.56it/s]\n",
      "{clarinet}: 100%|██████████| 945/945 [00:22<00:00, 41.68it/s]\n",
      "{double_bass}: 100%|██████████| 1180/1180 [00:30<00:00, 38.85it/s]\n",
      "{flute}: 100%|██████████| 925/925 [00:22<00:00, 41.69it/s]\n",
      "{horn}: 100%|██████████| 525/525 [00:13<00:00, 37.72it/s]\n",
      "{oboe}: 100%|██████████| 390/390 [00:09<00:00, 39.64it/s]\n",
      "{sax}: 100%|██████████| 910/910 [00:22<00:00, 41.05it/s]\n",
      "{trombone}: 100%|██████████| 805/805 [00:20<00:00, 39.35it/s]\n",
      "{trumpet}: 100%|██████████| 520/520 [00:13<00:00, 39.79it/s]\n",
      "{tuba}: 100%|██████████| 525/525 [00:13<00:00, 38.13it/s]\n",
      "{viola}: 100%|██████████| 485/485 [00:12<00:00, 39.56it/s]\n",
      "{violin}: 100%|██████████| 945/945 [00:23<00:00, 40.74it/s]\n"
     ]
    }
   ],
   "source": [
    "preprocessImg(srcPath, dstPath, \"validation\", instrumentNames, validationImages, boundingBoxList)"
   ]
  },
  {
   "cell_type": "code",
   "execution_count": 27,
   "metadata": {},
   "outputs": [],
   "source": [
    "cleanImageNames = []\n",
    "for name in instrumentNames:\n",
    "    instrumentFiles = listdir(f\"Data/SubURMPClean/images/validation/{name}\")\n",
    "    for file in instrumentFiles:\n",
    "        srcPath = f\"Data/SubURMP64/images/original/validation/{name}/{file}\"\n",
    "        dstPath = f\"Data/SubURMP64/images/clean/validation/{name}/\"\n",
    "        shutil.copy(srcPath, dstPath)\n",
    "        "
   ]
  }
 ],
 "metadata": {
  "kernelspec": {
   "display_name": "base",
   "language": "python",
   "name": "python3"
  },
  "language_info": {
   "codemirror_mode": {
    "name": "ipython",
    "version": 3
   },
   "file_extension": ".py",
   "mimetype": "text/x-python",
   "name": "python",
   "nbconvert_exporter": "python",
   "pygments_lexer": "ipython3",
   "version": "3.9.12"
  },
  "orig_nbformat": 4
 },
 "nbformat": 4,
 "nbformat_minor": 2
}
