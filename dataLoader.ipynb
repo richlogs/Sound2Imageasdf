{
 "cells": [
  {
   "cell_type": "code",
   "execution_count": 1,
   "metadata": {},
   "outputs": [],
   "source": [
    "import torch\n",
    "import torchvision\n",
    "import torchvision.transforms as T\n",
    "from torch.utils.data import DataLoader\n",
    "from fastprogress import progress_bar\n",
    "\n",
    "import glob\n",
    "import cv2\n",
    "import numpy as np\n",
    "import torch\n",
    "from torch.utils.data import Dataset, DataLoader\n",
    "from PIL import Image"
   ]
  },
  {
   "cell_type": "code",
   "execution_count": 62,
   "metadata": {},
   "outputs": [],
   "source": [
    "img_size = 64\n",
    "num_workers = 10\n",
    "batch_size = 1\n",
    "train_transforms = torchvision.transforms.Compose([\n",
    "     T.Resize(img_size + int(.25*img_size)),  # args.img_size + 1/4 *args.img_size\n",
    "     #T.RandomResizedCrop(img_size, scale=(0.8, 1.0)),\n",
    "     T.ToTensor(),\n",
    "     T.Normalize((0.5, 0.5, 0.5), (0.5, 0.5, 0.5)),\n",
    " ])"
   ]
  },
  {
   "cell_type": "code",
   "execution_count": 108,
   "metadata": {},
   "outputs": [],
   "source": [
    "# Custom Dataloader\n",
    "## This dataloader processes images the same way that the torch dataloader does; however, one of them reads images in, in a different order\n",
    "## To demonstrate the equivilance run with the trial image path\n",
    "\n",
    "class CustomDataset(Dataset):\n",
    "    def __init__(self, transform=None):\n",
    "        self.transform = transform\n",
    "        self.imgs_path = \"/Users/richardkyle/Documents/University/current/AIML589/Data/SubURMP64/images/clean/trial/\" # Set image path e.g. trial for demonstration, train for application\n",
    "        file_list = glob.glob(self.imgs_path + \"*\")\n",
    "        #print(file_list)\n",
    "        self.data = []\n",
    "        for class_path in file_list:\n",
    "            class_name = class_path.split(\"/\")[-1]\n",
    "            for img_path in glob.glob(class_path + \"/*.jpg\"):\n",
    "                self.data.append([img_path, class_name])\n",
    "        #print(self.data)\n",
    "        #self.class_map = {\"dogs\" : 0, \"cats\": 1}\n",
    "        self.img_dim = (64, 64)\n",
    "    def __len__(self):\n",
    "        return len(self.data)\n",
    "    def __getitem__(self, idx):\n",
    "        img_path, class_name = self.data[idx]\n",
    "        img = Image.open(img_path)\n",
    "        img = img.convert(\"RGB\")\n",
    "        #img = np.array(img)\n",
    "        #img = cv2.resize(img, self.img_dim)\n",
    "        #class_id = self.class_map[class_name]\n",
    "        #img_tensor = torch.from_numpy(img)\n",
    "        #img_tensor = img_tensor.permute(2, 0, 1)\n",
    "        #class_id = torch.tensor([class_id])\n",
    "        img_path = img_path.split(\"/\")[-1]\n",
    "\n",
    "        if self.transform:\n",
    "            img = self.transform(img)\n",
    "\n",
    "        return img, img_path"
   ]
  },
  {
   "cell_type": "code",
   "execution_count": 109,
   "metadata": {},
   "outputs": [],
   "source": [
    "# This code extracts all images and there associated labels. Use label information to read in embeddings into the main Diffusion model script\n",
    "dataset = CustomDataset(transform=train_transforms)\n",
    "data_loader = DataLoader(dataset, batch_size=batch_size, shuffle=False)\n",
    "\n",
    "imgsList = []\n",
    "labsList = []\n",
    "for imgs, labs in data_loader:\n",
    "    imgsList.append(imgs)\n",
    "    labsList.append(labs)"
   ]
  },
  {
   "cell_type": "code",
   "execution_count": 110,
   "metadata": {},
   "outputs": [],
   "source": [
    "# This code calls the default dataloader \n",
    "train_dataset = torchvision.datasets.ImageFolder('/Users/richardkyle/Documents/University/current/AIML589/Data/SubURMP64/images/clean/trial', transform=train_transforms)\n",
    "train_dataloader = DataLoader(train_dataset, batch_size=batch_size, shuffle=False)\n",
    "imgsListOriginal = []\n",
    "labsListOriginal = []\n",
    "for imgs, labs in train_dataloader:\n",
    "    imgsListOriginal.append(imgs)\n",
    "    labsListOriginal.append(labs)"
   ]
  },
  {
   "cell_type": "code",
   "execution_count": 111,
   "metadata": {},
   "outputs": [
    {
     "data": {
      "image/png": "[encoded data removed]",
      "text/plain": [
       "<PIL.Image.Image image mode=RGB size=80x80 at 0x7F7D1D5DA100>"
      ]
     },
     "execution_count": 111,
     "metadata": {},
     "output_type": "execute_result"
    }
   ],
   "source": [
    "# Visualise image from custom dataloader\n",
    "tran = T.ToPILImage()\n",
    "imgsz = torch.squeeze(imgsList[-1], 0)\n",
    "imgsz = tran(imgsz)\n",
    "imgsz"
   ]
  },
  {
   "cell_type": "code",
   "execution_count": 113,
   "metadata": {},
   "outputs": [
    {
     "data": {
      "image/png": "[encoded data removed]",
      "text/plain": [
       "<PIL.Image.Image image mode=RGB size=80x80 at 0x7F7F2BEFE0A0>"
      ]
     },
     "execution_count": 113,
     "metadata": {},
     "output_type": "execute_result"
    }
   ],
   "source": [
    "# Visualise image from default dataloader\n",
    "tran = T.ToPILImage()\n",
    "imgsz = torch.squeeze(imgsListOriginal[0], 0)\n",
    "imgsz = tran(imgsz)\n",
    "imgsz"
   ]
  },
  {
   "cell_type": "code",
   "execution_count": 116,
   "metadata": {},
   "outputs": [
    {
     "data": {
      "text/plain": [
       "tensor([[[[-0.7333, -0.8745, -0.8118,  ..., -0.5373, -0.8510, -0.8745],\n",
       "          [-0.7333, -0.8667, -0.8039,  ..., -0.6078, -0.8118, -0.9216],\n",
       "          [-0.7255, -0.8667, -0.7961,  ..., -0.6549, -0.7804, -0.9529],\n",
       "          ...,\n",
       "          [-0.9686, -0.9765, -0.9843,  ..., -0.9294, -0.9373, -0.9686],\n",
       "          [-0.9686, -0.9765, -0.9843,  ..., -0.9373, -0.9451, -0.9765],\n",
       "          [-0.9765, -0.9843, -0.9843,  ..., -0.9373, -0.9451, -0.9765]],\n",
       "\n",
       "         [[-0.7020, -0.8196, -0.7569,  ..., -0.5294, -0.7882, -0.7961],\n",
       "          [-0.7020, -0.8196, -0.7490,  ..., -0.6078, -0.7569, -0.8353],\n",
       "          [-0.6941, -0.8118, -0.7412,  ..., -0.6706, -0.7333, -0.8667],\n",
       "          ...,\n",
       "          [-0.8902, -0.9059, -0.9294,  ..., -0.9529, -0.9608, -0.9922],\n",
       "          [-0.8902, -0.9059, -0.9294,  ..., -0.9529, -0.9686, -1.0000],\n",
       "          [-0.8824, -0.9059, -0.9294,  ..., -0.9529, -0.9686, -1.0000]],\n",
       "\n",
       "         [[ 0.3490,  0.2235,  0.2863,  ..., -0.1059,  0.0745,  0.4353],\n",
       "          [ 0.3490,  0.2314,  0.2941,  ..., -0.0824,  0.1137,  0.3098],\n",
       "          [ 0.3647,  0.2314,  0.3020,  ..., -0.0039,  0.1373,  0.1373],\n",
       "          ...,\n",
       "          [-0.4118, -0.4431, -0.4824,  ..., -0.5608, -0.5373, -0.5529],\n",
       "          [-0.4118, -0.4431, -0.4745,  ..., -0.5686, -0.5451, -0.5686],\n",
       "          [-0.4118, -0.4431, -0.4745,  ..., -0.5765, -0.5451, -0.5686]]]])"
      ]
     },
     "execution_count": 116,
     "metadata": {},
     "output_type": "execute_result"
    }
   ],
   "source": [
    "# See numeric representation of custom dataloader for image i\n",
    "imgsList[-1]"
   ]
  },
  {
   "cell_type": "code",
   "execution_count": 114,
   "metadata": {},
   "outputs": [
    {
     "data": {
      "text/plain": [
       "tensor([[[[-0.7333, -0.8745, -0.8118,  ..., -0.5373, -0.8510, -0.8745],\n",
       "          [-0.7333, -0.8667, -0.8039,  ..., -0.6078, -0.8118, -0.9216],\n",
       "          [-0.7255, -0.8667, -0.7961,  ..., -0.6549, -0.7804, -0.9529],\n",
       "          ...,\n",
       "          [-0.9686, -0.9765, -0.9843,  ..., -0.9294, -0.9373, -0.9686],\n",
       "          [-0.9686, -0.9765, -0.9843,  ..., -0.9373, -0.9451, -0.9765],\n",
       "          [-0.9765, -0.9843, -0.9843,  ..., -0.9373, -0.9451, -0.9765]],\n",
       "\n",
       "         [[-0.7020, -0.8196, -0.7569,  ..., -0.5294, -0.7882, -0.7961],\n",
       "          [-0.7020, -0.8196, -0.7490,  ..., -0.6078, -0.7569, -0.8353],\n",
       "          [-0.6941, -0.8118, -0.7412,  ..., -0.6706, -0.7333, -0.8667],\n",
       "          ...,\n",
       "          [-0.8902, -0.9059, -0.9294,  ..., -0.9529, -0.9608, -0.9922],\n",
       "          [-0.8902, -0.9059, -0.9294,  ..., -0.9529, -0.9686, -1.0000],\n",
       "          [-0.8824, -0.9059, -0.9294,  ..., -0.9529, -0.9686, -1.0000]],\n",
       "\n",
       "         [[ 0.3490,  0.2235,  0.2863,  ..., -0.1059,  0.0745,  0.4353],\n",
       "          [ 0.3490,  0.2314,  0.2941,  ..., -0.0824,  0.1137,  0.3098],\n",
       "          [ 0.3647,  0.2314,  0.3020,  ..., -0.0039,  0.1373,  0.1373],\n",
       "          ...,\n",
       "          [-0.4118, -0.4431, -0.4824,  ..., -0.5608, -0.5373, -0.5529],\n",
       "          [-0.4118, -0.4431, -0.4745,  ..., -0.5686, -0.5451, -0.5686],\n",
       "          [-0.4118, -0.4431, -0.4745,  ..., -0.5765, -0.5451, -0.5686]]]])"
      ]
     },
     "execution_count": 114,
     "metadata": {},
     "output_type": "execute_result"
    }
   ],
   "source": [
    "# See numeric representation of default dataloader for image i\n",
    "imgsListOriginal[0]"
   ]
  }
 ],
 "metadata": {
  "kernelspec": {
   "display_name": "base",
   "language": "python",
   "name": "python3"
  },
  "language_info": {
   "codemirror_mode": {
    "name": "ipython",
    "version": 3
   },
   "file_extension": ".py",
   "mimetype": "text/x-python",
   "name": "python",
   "nbconvert_exporter": "python",
   "pygments_lexer": "ipython3",
   "version": "3.9.12"
  },
  "orig_nbformat": 4
 },
 "nbformat": 4,
 "nbformat_minor": 2
}
