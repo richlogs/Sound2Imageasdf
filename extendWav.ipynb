{
 "cells": [
  {
   "cell_type": "code",
   "execution_count": 1,
   "metadata": {},
   "outputs": [],
   "source": [
    "\n",
    "from os import listdir\n",
    "import re\n",
    "import numpy as np\n",
    "import wave\n",
    "from tqdm import tqdm\n"
   ]
  },
  {
   "cell_type": "markdown",
   "metadata": {},
   "source": [
    "#### Reading in Data"
   ]
  },
  {
   "cell_type": "code",
   "execution_count": 2,
   "metadata": {},
   "outputs": [],
   "source": [
    "# Reading in all training .wav files\n",
    "## Get all directory names\n",
    "instrumentNames = listdir(\"Data/SubURMP/chunk/validation/\")\n",
    "instrumentNames = [name for name in instrumentNames if name[0] != \".\"] # Remove all hidden directories\n",
    "\n",
    "## Get all .wav files names\n",
    "wavFileNames = []\n",
    "for dir in instrumentNames:\n",
    "    fileNames = listdir(f\"Data/SubURMP/chunk/validation/{dir}/\")\n",
    "    fileNames = [name for name in fileNames if name[0] != \".\"]\n",
    "    wavFileNames.append(fileNames)\n"
   ]
  },
  {
   "cell_type": "markdown",
   "metadata": {},
   "source": [
    "#### Ordering data "
   ]
  },
  {
   "cell_type": "code",
   "execution_count": 3,
   "metadata": {},
   "outputs": [],
   "source": [
    "numericFileNames = []\n",
    "for instrumentFileNames in wavFileNames:\n",
    "    instrumentNumericFile = []\n",
    "    for file in instrumentFileNames:\n",
    "        fileNum = re.sub(\"[^0-9]\", \"\", file)  # Removes non-numeric values\n",
    "        #fileNum = fileNum[:2] + \"_\" + fileNum[2:]\n",
    "        instrumentNumericFile.append(fileNum)  \n",
    "    \n",
    "    #instrumentNumericFile = list(map(int, instrumentNumericFile))  # converts list of values from characters to integers\n",
    "    numericFileNames.append(instrumentNumericFile)"
   ]
  },
  {
   "cell_type": "code",
   "execution_count": 4,
   "metadata": {},
   "outputs": [],
   "source": [
    "# Creating Two columns to sort data with such that it maches that in the directory\n",
    "\n",
    "completeIdxOne = [] # List for all instruments taking first two elements of numeric component of name\n",
    "completeIdxTwo = [] # List for all instruments taking the remaining elements of numeric component of name\n",
    "\n",
    "for instrument in numericFileNames:\n",
    "\n",
    "    ## Individual instrument list \n",
    "    idxOneList = [] \n",
    "    idxTwoList = []\n",
    "\n",
    "    ## Loop through instrument i file names (numeric components) to extract all necessary information \n",
    "    for elem in instrument:\n",
    "        idxOne = elem[:2]  # First two elements\n",
    "        idxTwo = elem[2:]  # Remaining elements\n",
    "\n",
    "        idxOneList.append(idxOne)\n",
    "        idxTwoList.append(idxTwo)\n",
    "\n",
    "    completeIdxOne.append(idxOneList)\n",
    "    completeIdxTwo.append(idxTwoList)\n",
    "\n"
   ]
  },
  {
   "cell_type": "markdown",
   "metadata": {},
   "source": [
    "# Excluding reading in data "
   ]
  },
  {
   "cell_type": "code",
   "execution_count": 6,
   "metadata": {},
   "outputs": [],
   "source": [
    "# Sorting file names and data with indexing columns\n",
    "\n",
    "## Creating list objects for final sorted elements\n",
    "sortedFileNames = []\n",
    "\n",
    "for instrumentFileNames, instrumentIdOne, instrumentIdTwo in zip(wavFileNames, completeIdxOne, completeIdxTwo):\n",
    "\n",
    "    ### Turn all list objects into arrays for sorting\n",
    "    nameArray = np.array(instrumentFileNames)  # Array by instrument of file names\n",
    "\n",
    "\n",
    "    idOneArray = np.array(instrumentIdOne).astype(int)  # array of first two elements of numeric list (see above cell)\n",
    "    idTwoArray = np.array(instrumentIdTwo).astype(int)  # array of remaining elements of numeric list (see above cell)\n",
    "\n",
    "    ### Sort name and data arrays by indexing elements\n",
    "    nameArraySorted = nameArray[np.lexsort((idTwoArray, idOneArray))]\n",
    "\n",
    "\n",
    "    ### Append sorted data to final sorted lists created above\n",
    "    sortedFileNames.append(nameArraySorted)\n",
    "\n",
    "\n",
    "\n",
    "#######\n",
    "## I HAVE CHECKED TO MAKE SURE THIS SORTING PROCESS IS ACCURATE\n",
    "## TO RECHECK USE THE BELOW CODE \n",
    "# sortedFileNames[8][387]\n",
    "# sortedFileData[8][387]\n",
    "# samplerate, data = wavfile.read(\"Data/SubURMPClean/audio/train/tuba/tuba00_39200.wav\")\n",
    "# data[:,0]\n",
    "\n",
    "    "
   ]
  },
  {
   "cell_type": "code",
   "execution_count": 7,
   "metadata": {},
   "outputs": [],
   "source": [
    "# This cell divides each instrument into its individual performances\n",
    "performanceID = ['00', '01', '02', '03', '04', '05', '06', '07', '08', '09'] # All possible performance ID's\n",
    "\n",
    "\n",
    "sortedPerformanceFileNames = []\n",
    "\n",
    "for fileset in sortedFileNames:\n",
    "    performanceNameList = []\n",
    "    for idx in performanceID:\n",
    "        indexingList = [True if re.sub(r'[^0-9]', '', name)[:2] == idx else False for name in fileset]  # Indexing list seperating performances within instrument\n",
    "        names = fileset[indexingList]  # Filtering file names by indexing list\n",
    "       \n",
    "        \n",
    "        performanceNameList.append(names)\n",
    "      \n",
    "        \n",
    "    performanceNameList = [arr for arr in performanceNameList if arr.shape[0] != 0]\n",
    "    \n",
    "    # The below lists store musical numbers in seperate lists. \n",
    "    # The format is list(list(instrument A --> list(number 0), list(number 1) --> list(number n)), list(instrument B --> list(number 0), list(number 1) --> list(number n)))\n",
    "    # Instrument A\n",
    "    #   - number 0\n",
    "    #   - number 1\n",
    "    # Instrument B\n",
    "    #   - number 0\n",
    "    #   - number 1\n",
    "\n",
    "    sortedPerformanceFileNames.append(performanceNameList)\n",
    "  \n",
    "        \n",
    "\n"
   ]
  },
  {
   "cell_type": "code",
   "execution_count": 8,
   "metadata": {},
   "outputs": [],
   "source": [
    "#TODO Make sure that the last file to be created has the same number of samples in it as every other file. This way the audio lengths will be the same otherwise AudioCLIP will not run properly \n",
    "\n",
    "def extendAudio(fileNames, instrument, outputDirectory, overlapIncriment = 10, length = 10):\n",
    "    forLoopLength = fileNames[::5].shape[0] ## fileNames should be a non-empty array of file names\n",
    "    \n",
    "    for i in range(0,forLoopLength, overlapIncriment): ## OverlapIncriment specifies the extent of overlap between samples. 10 == no overlap, 1 == maximum overlap\n",
    "        outputName = f\"{outputDirectory}/{instrument}/{fileNames[::5][i]}\" #TODO This is the secontion of the code to improve\n",
    "        files = fileNames[::5][i:i+length]\n",
    "        data = []\n",
    "        \n",
    "        for file in files:\n",
    "            w = wave.open(f\"Data/SubURMP/chunk/validation/{instrument}/{file}\", 'rb')\n",
    "            data.append([w.getparams(), w.readframes(w.getnframes())]) \n",
    "            w.close()\n",
    "        \n",
    "        output = wave.open(outputName, 'wb')\n",
    "        output.setparams(data[0][0])\n",
    "        for i in range(len(data)):\n",
    "            output.writeframes(data[i][1])\n",
    "        output.close()\n",
    "        "
   ]
  },
  {
   "cell_type": "code",
   "execution_count": 12,
   "metadata": {},
   "outputs": [],
   "source": [
    "import os \n",
    "for instrument in instrumentNames:\n",
    "    os.mkdir(f\"Data/SubURMPExtendedAudio/validation/{instrument}\")"
   ]
  },
  {
   "cell_type": "code",
   "execution_count": 13,
   "metadata": {},
   "outputs": [
    {
     "name": "stderr",
     "output_type": "stream",
     "text": [
      "{cello}: 100%|██████████| 1/1 [00:00<00:00,  9.10it/s]\n",
      "{violin}: 100%|██████████| 1/1 [00:00<00:00,  9.33it/s]\n",
      "{trombone}: 100%|██████████| 1/1 [00:00<00:00, 11.67it/s]\n",
      "{bassoon}: 100%|██████████| 1/1 [00:00<00:00, 22.02it/s]\n",
      "{clarinet}: 100%|██████████| 1/1 [00:00<00:00,  9.76it/s]\n",
      "{sax}: 100%|██████████| 2/2 [00:00<00:00, 20.28it/s]\n",
      "{oboe}: 100%|██████████| 1/1 [00:00<00:00, 17.11it/s]\n",
      "{trumpet}: 100%|██████████| 1/1 [00:00<00:00, 16.10it/s]\n",
      "{tuba}: 100%|██████████| 1/1 [00:00<00:00, 15.87it/s]\n",
      "{horn}: 100%|██████████| 1/1 [00:00<00:00, 17.70it/s]\n",
      "{viola}: 100%|██████████| 1/1 [00:00<00:00, 15.23it/s]\n",
      "{flute}: 100%|██████████| 1/1 [00:00<00:00,  7.20it/s]\n",
      "{double_bass}: 100%|██████████| 1/1 [00:00<00:00,  7.92it/s]\n"
     ]
    }
   ],
   "source": [
    "for instrument, fileNamesList in zip(instrumentNames, sortedPerformanceFileNames):\n",
    "    for fileNames in tqdm(fileNamesList, desc=f\"{{{instrument}}}\"):\n",
    "        extendAudio(fileNames, instrument, \"Data/SubURMPExtendedAudio/validation\", overlapIncriment=10)\n",
    "    "
   ]
  }
 ],
 "metadata": {
  "kernelspec": {
   "display_name": "Python 3 (ipykernel)",
   "language": "python",
   "name": "python3"
  },
  "language_info": {
   "codemirror_mode": {
    "name": "ipython",
    "version": 3
   },
   "file_extension": ".py",
   "mimetype": "text/x-python",
   "name": "python",
   "nbconvert_exporter": "python",
   "pygments_lexer": "ipython3",
   "version": "3.9.12"
  },
  "vscode": {
   "interpreter": {
    "hash": "70db2316063c5710d823205c102c518606942d61c5cbecaaf4a3c05c40319f21"
   }
  }
 },
 "nbformat": 4,
 "nbformat_minor": 2
}
