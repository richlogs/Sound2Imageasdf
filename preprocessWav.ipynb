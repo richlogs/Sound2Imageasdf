{
 "cells": [
  {
   "cell_type": "code",
   "execution_count": 1,
   "metadata": {},
   "outputs": [],
   "source": [
    "from os import listdir, makedirs\n",
    "from itertools import compress\n",
    "from scipy.io import wavfile\n",
    "import numpy as np\n",
    "import shutil"
   ]
  },
  {
   "attachments": {},
   "cell_type": "markdown",
   "metadata": {},
   "source": [
    "## Reading and Filtering .wav Files"
   ]
  },
  {
   "cell_type": "code",
   "execution_count": 42,
   "metadata": {},
   "outputs": [],
   "source": [
    "preprocessDirectory = \"SubURMPExtendedAudio/original\"\n",
    "processedDirectory = \"SubURMPExtendedAudio/clean\"\n",
    "\n",
    "srcPath = f\"Data/{preprocessDirectory}\"\n",
    "dstPath = f\"Data/{processedDirectory}\"\n",
    "dataSplit = \"train\""
   ]
  },
  {
   "cell_type": "code",
   "execution_count": 48,
   "metadata": {},
   "outputs": [],
   "source": [
    "# Reading in all training .wav files\n",
    "## Get all directory names\n",
    "instrumentNames = listdir(f\"{srcPath}/{dataSplit}/\")\n",
    "instrumentNames = [name for name in instrumentNames if name[0] != \".\"] # Remove all hidden directories\n",
    "\n",
    "## Get all .wav files names\n",
    "wavFileNames = []\n",
    "for dir in instrumentNames:\n",
    "    fileNames = listdir(f\"{srcPath}/{dataSplit}/{dir}/\")\n",
    "    fileNames = [name for name in fileNames if name[0] != \".\"]\n",
    "    wavFileNames.append(fileNames)\n",
    "\n",
    "\n",
    "\n",
    "## Reading in all .wav files in each directory \n",
    "## I have checked to ensure that all files have a sampeling rate == 44100\n",
    "\n",
    "wavFileData = []\n",
    "for i, instrument in enumerate(instrumentNames):\n",
    "    instrumentData = []\n",
    "    for file in wavFileNames[i]:\n",
    "        _, data = wavfile.read(f\"{srcPath}/{dataSplit}/{instrument}/{file}\")\n",
    "        instrumentData.append(data[:,0]) # I have checked to ensure that all data is single sided i.e. data[:,0] == data[:,1]\n",
    "    \n",
    "    wavFileData.append(instrumentData)"
   ]
  },
  {
   "cell_type": "code",
   "execution_count": 49,
   "metadata": {},
   "outputs": [],
   "source": [
    "# Filtering all .wav files upon >= 450 condition i.e. removing silent samples\n",
    "\n",
    "## Creating list objects for filtered data and recording names of remaining and removed files\n",
    "audiableWavData = []  # filtered data list\n",
    "audiableWavFiles = []  # remaining file names\n",
    "inaudiableWavFiles = []  # removed file names\n",
    "\n",
    "\n",
    "## Loop over all 13 instruments and filter dataset based on abs(amplitude) >= 450 condition \n",
    "for i, instrumentData in enumerate(wavFileData):\n",
    "    ### Populating list object for whether condition is met\n",
    "    maxConditionMetList = []  \n",
    "    for recording in instrumentData:\n",
    "        maxCondition = max(abs(recording)) >= 450 \n",
    "        maxConditionMetList.append(maxCondition)\n",
    "\n",
    "    ### Populating list object for whether condition is not met\n",
    "    maxConditionFailedList = [not element for element in maxConditionMetList]\n",
    "\n",
    "    ### Creating list objects for filtered data and filenames for instrument i \n",
    "    wavDataKeep = list(compress(instrumentData, maxConditionMetList))  # filtered data\n",
    "    wavFilesKeep = list(compress(wavFileNames[i], maxConditionMetList))  # remaning file names\n",
    "    wavFilesRemove = list(compress(wavFileNames[i], maxConditionFailedList))  # removed file names\n",
    "\n",
    "    ### Adding data for instrument i to parent list\n",
    "    audiableWavData.append(wavDataKeep)  \n",
    "    audiableWavFiles.append(wavFilesKeep)\n",
    "    inaudiableWavFiles.append(wavFilesRemove)\n",
    "\n",
    "\n"
   ]
  },
  {
   "cell_type": "code",
   "execution_count": 50,
   "metadata": {},
   "outputs": [],
   "source": [
    "# Copying all audiable files from SubURMP Dataset to clean dataset\n",
    "# ONLY RUN THIS CODE ONCE \n",
    "\n",
    "for name, fileList in zip(instrumentNames, audiableWavFiles):\n",
    "    for file in fileList:\n",
    "        sourcePath = f\"{srcPath}/{dataSplit}/{name}/{file}\"\n",
    "        destPath = f\"{dstPath}/{dataSplit}/{name}/{file}\"\n",
    "\n",
    "        shutil.copy(sourcePath, destPath)\n",
    "  "
   ]
  },
  {
   "attachments": {},
   "cell_type": "markdown",
   "metadata": {},
   "source": [
    "## Pairing Filtered .wav files with Images\n"
   ]
  },
  {
   "cell_type": "code",
   "execution_count": 51,
   "metadata": {},
   "outputs": [],
   "source": [
    "# Producing a list of wanted file names (This just involves swapping .wav to .jpg)\n",
    "audiableImgFiles = []\n",
    "\n",
    "for instrument in audiableWavFiles:\n",
    "    instrumentImgFiles = []\n",
    "    for fileName in instrument:\n",
    "        imgFileName = fileName.replace(\"wav\", \"jpg\")\n",
    "        instrumentImgFiles.append(imgFileName)\n",
    "    audiableImgFiles.append(instrumentImgFiles)"
   ]
  },
  {
   "cell_type": "code",
   "execution_count": 52,
   "metadata": {},
   "outputs": [],
   "source": [
    "imageSrcDirectory = f\"Data/SubURMP64/images/original\"\n",
    "imageDstDirectory = f\"Data/SubURMP64/images/extendedAudio\""
   ]
  },
  {
   "cell_type": "code",
   "execution_count": 53,
   "metadata": {},
   "outputs": [],
   "source": [
    "# Copying all images associated with audiable files from SubURMP Dataset to clean dataset\n",
    "# ONLY RUN THIS CODE ONCE \n",
    "\n",
    "for name, fileList in zip(instrumentNames, audiableImgFiles):\n",
    "    for file in fileList:\n",
    "        sourcePath = f\"{imageSrcDirectory}/{dataSplit}/{name}/{file}\"\n",
    "        destPath = f\"{imageDstDirectory}/{dataSplit}/{name}/{file}\"\n",
    "\n",
    "        shutil.copy(sourcePath, destPath)"
   ]
  },
  {
   "cell_type": "code",
   "execution_count": 54,
   "metadata": {},
   "outputs": [],
   "source": [
    "with open(\"Documentation/ExtendedAudio_train_files_removed.txt\", \"w\") as f:\n",
    "    for instrument, fileName in zip(instrumentNames, inaudiableWavFiles):\n",
    "        f.write(f\"{instrument}\\n\")\n",
    "        for file in fileName:\n",
    "            f.write(f\"{file}\\n\")"
   ]
  }
 ],
 "metadata": {
  "kernelspec": {
   "display_name": "aiml_425_proj",
   "language": "python",
   "name": "python3"
  },
  "language_info": {
   "codemirror_mode": {
    "name": "ipython",
    "version": 3
   },
   "file_extension": ".py",
   "mimetype": "text/x-python",
   "name": "python",
   "nbconvert_exporter": "python",
   "pygments_lexer": "ipython3",
   "version": "3.9.12"
  },
  "orig_nbformat": 4,
  "vscode": {
   "interpreter": {
    "hash": "6a7d03b8711e5419017c3fb26fd97bf4d79df2641a8f4eba5f575c314c590adb"
   }
  }
 },
 "nbformat": 4,
 "nbformat_minor": 2
}
